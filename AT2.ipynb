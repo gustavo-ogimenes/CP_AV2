{
 "cells": [
  {
   "cell_type": "markdown",
   "metadata": {},
   "source": []
  },
  {
   "cell_type": "markdown",
   "metadata": {},
   "source": [
    "# Imports and variable declaring"
   ]
  },
  {
   "cell_type": "code",
   "execution_count": 9,
   "metadata": {},
   "outputs": [],
   "source": [
    "import math\n",
    "\n",
    "# Constantes\n",
    "G = 6.67430e-11  # Constante gravitacional (m³/kg/s²)\n",
    "M = 1.9891e30    # Massa do Sol (kg)\n",
    "pi = math.pi"
   ]
  },
  {
   "cell_type": "markdown",
   "metadata": {},
   "source": [
    "# Função para calcular os parâmetros da órbita"
   ]
  },
  {
   "cell_type": "code",
   "execution_count": 27,
   "metadata": {},
   "outputs": [],
   "source": [
    "# Função para calcular v2 usando a equação de conservação de energia\n",
    "def calcular_parametros_orbitais(l1, v1):\n",
    "\n",
    "    # Como l2 = (l1 * v1) / v2, substituímos na equação de energia e resolvemos numericamente\n",
    "    def equacao_v2(v2):\n",
    "        l2 = (l1 * v1) / v2\n",
    "        E1 = 0.5 * v1**2 - G * M / l1\n",
    "        E2 = 0.5 * v2**2 - G * M / l2\n",
    "        return E2 - E1\n",
    "\n",
    "    # Encontrar raiz da equação numericamente (ex: método de Newton-Raphson ou bisecção)\n",
    "    from scipy.optimize import fsolve\n",
    "\n",
    "    v2_estimate = v1 / 2  # chute inicial razoável\n",
    "    v2 = fsolve(equacao_v2, v2_estimate)[0]\n",
    "\n",
    "    # Agora calcular l2 e os demais parâmetros\n",
    "    l2 = (l1 * v1) / v2\n",
    "    a = 0.5 * (l1 + l2)\n",
    "    b = math.sqrt(l1 * l2)\n",
    "    T = (2 * pi * a * b) / (l1 * v1)\n",
    "    e = abs(l2 - l1) / (l2 + l1)\n",
    "\n",
    "    # Converter o resultado para as escalas esperadas\n",
    "\n",
    "    T = T / 31557600        # 1 ano = 31557600 segundos\n",
    "\n",
    "    return print(f\"{l2}m, {v2}m/s, {a}, {b}, {T} Anos, {e}\")\n"
   ]
  },
  {
   "cell_type": "code",
   "execution_count": 18,
   "metadata": {},
   "outputs": [
    {
     "data": {
      "text/plain": [
       "(9.415592883458135e-08,\n",
       " 53103400517499.99,\n",
       " 500.00000004707795,\n",
       " 0.009703397798430267,\n",
       " 6.0968246482556314e-06,\n",
       " -0.9999999998116882)"
      ]
     },
     "execution_count": 18,
     "metadata": {},
     "output_type": "execute_result"
    }
   ],
   "source": [
    "# Testando a função com inputs\n",
    "l1_input = float(input(\"Forneça o perielio (m): \"))\n",
    "v1_input = float(input(\"Forneça a velocidade no perielio (m/s): \"))\n",
    "input_parameters = calcular_parametros_orbitais(l1_input, v1_input)\n",
    "input_parameters"
   ]
  },
  {
   "cell_type": "code",
   "execution_count": 28,
   "metadata": {},
   "outputs": [
    {
     "name": "stdout",
     "output_type": "stream",
     "text": [
      "152004039521.9595, 29309.8638300094, 149552019760.97974, 149531917040.07623, 0.999385755049373 Anos, 0.01639576493115019\n"
     ]
    }
   ],
   "source": [
    "# Testando para os dados da Terra\n",
    "l1_terra = 1.471e11  # m\n",
    "v1_terra = 3.0287e4  # m/s\n",
    "parametros_terra = calcular_parametros_orbitais(l1_terra, v1_terra)\n",
    "\n",
    "\n",
    "parametros_terra"
   ]
  },
  {
   "cell_type": "code",
   "execution_count": 24,
   "metadata": {},
   "outputs": [
    {
     "data": {
      "text/plain": [
       "(5258128751516.062,\n",
       " 910.8339290130771,\n",
       " 2672979375758.031,\n",
       " 679574461148.7808,\n",
       " 75.51585475596607,\n",
       " 0.9671415347246769)"
      ]
     },
     "execution_count": 24,
     "metadata": {},
     "output_type": "execute_result"
    }
   ],
   "source": [
    "# Testando para os dados do cometa Halley\n",
    "l1_halley = 8.7830e10  # m\n",
    "v1_halley = 5.4529e4   # m/s\n",
    "parametros_halley = calcular_parametros_orbitais(l1_halley, v1_halley)\n",
    "parametros_halley"
   ]
  },
  {
   "cell_type": "code",
   "execution_count": null,
   "metadata": {},
   "outputs": [],
   "source": []
  },
  {
   "cell_type": "code",
   "execution_count": null,
   "metadata": {},
   "outputs": [],
   "source": []
  }
 ],
 "metadata": {
  "kernelspec": {
   "display_name": "base",
   "language": "python",
   "name": "python3"
  },
  "language_info": {
   "codemirror_mode": {
    "name": "ipython",
    "version": 3
   },
   "file_extension": ".py",
   "mimetype": "text/x-python",
   "name": "python",
   "nbconvert_exporter": "python",
   "pygments_lexer": "ipython3",
   "version": "3.12.7"
  }
 },
 "nbformat": 4,
 "nbformat_minor": 2
}
