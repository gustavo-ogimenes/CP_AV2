{
 "cells": [
  {
   "cell_type": "markdown",
   "metadata": {},
   "source": []
  },
  {
   "cell_type": "markdown",
   "metadata": {},
   "source": [
    "# Resolução do item A"
   ]
  },
  {
   "cell_type": "code",
   "execution_count": 2,
   "metadata": {},
   "outputs": [
    {
     "data": {
      "text/plain": [
       "[v1, 2*G*M/(l1*v1) - v1]"
      ]
     },
     "execution_count": 2,
     "metadata": {},
     "output_type": "execute_result"
    }
   ],
   "source": [
    "from sympy import symbols, Eq, solve, simplify\n",
    "\n",
    "# Etapa 1: Definimos as variáveis simbólicas reais e positivas\n",
    "# v1: velocidade no periélio\n",
    "# v2: velocidade no afélio (é o que queremos encontrar)\n",
    "# G: constante gravitacional\n",
    "# M: massa do Sol\n",
    "# l1: distância ao Sol no periélio\n",
    "# l2: distância ao Sol no afélio\n",
    "v1, v2, G, M, l1, l2 = symbols('v1 v2 G M l1 l2', real=True, positive=True)\n",
    "\n",
    "# Etapa 2: Construção da equação da energia, a partir dos dados do exercício.\n",
    "# A equação vem da conservação da energia total\n",
    "# v2**2 - (2GM*v2)/(v1*l1) - (v1**2 - 2GM/l1) = 0\n",
    "eq = Eq(\n",
    "    v2**2 - (2 * G * M * v2) / (v1 * l1) - (v1**2 - (2 * G * M) / l1),\n",
    "    0\n",
    ")\n",
    "\n",
    "# Etapa 3: Resolver a equação para v2\n",
    "sol_v2 = solve(eq, v2)\n",
    "\n",
    "# Etapa 4: Simplificar cada solução encontrada\n",
    "sol_v2_simplified = [simplify(sol) for sol in sol_v2]\n",
    "\n",
    "# Exibir as soluções simbólicas encontradas\n",
    "sol_v2_simplified\n"
   ]
  },
  {
   "cell_type": "markdown",
   "metadata": {},
   "source": [
    "# Resolução do item B"
   ]
  },
  {
   "cell_type": "code",
   "execution_count": 3,
   "metadata": {},
   "outputs": [
    {
     "data": {
      "text/plain": [
       "(l1**2*v1**2/(2*G*M - l1*v1**2),\n",
       " 2*G*M/(l1*v1) - v1,\n",
       " G*M*l1/(2*G*M - l1*v1**2),\n",
       " l1**(3/2)*v1*sqrt(1/(2*G*M - l1*v1**2)),\n",
       " 2*pi*G*M*l1**(3/2)*sqrt(1/(2*G*M - l1*v1**2))/(2*G*M - l1*v1**2),\n",
       " -1 + l1*v1**2/(G*M))"
      ]
     },
     "execution_count": 3,
     "metadata": {},
     "output_type": "execute_result"
    }
   ],
   "source": [
    "from sympy import pi, sqrt\n",
    "\n",
    "# Definição das variáveis simbólicas novamente\n",
    "l1, v1, G, M = symbols('l1 v1 G M', real=True, positive=True)\n",
    "\n",
    "# Fórmulas fornecidas no exercício\n",
    "# 1. Momento angular conservado: l1 * v1 = l2 * v2 => l2 = l1 * v1 / v2\n",
    "v2 = (2*G*M)/(l1*v1) - v1  # Equação derivada anteriormente\n",
    "l2 = l1 * v1 / v2\n",
    "\n",
    "# 2. Semi-eixo maior: a = 1/2 (l1 + l2)\n",
    "a = (l1 + l2) / 2\n",
    "\n",
    "# 3. Semi-eixo menor: b = sqrt(l1 * l2)\n",
    "b = sqrt(l1 * l2)\n",
    "\n",
    "# 4. Período orbital: T = 2πab / (l1 * v1)\n",
    "T = 2 * pi * a * b / (l1 * v1)\n",
    "\n",
    "# 5. Excentricidade: e = (l2 - l1) / (l2 + l1)\n",
    "e = (l2 - l1) / (l2 + l1)\n",
    "\n",
    "# Simplificação final das fórmulas\n",
    "l2_s = simplify(l2)\n",
    "v2_s = simplify(v2)\n",
    "a_s = simplify(a)\n",
    "b_s = simplify(b)\n",
    "T_s = simplify(T)\n",
    "e_s = simplify(e)\n",
    "\n",
    "l2_s, v2_s, a_s, b_s, T_s, e_s\n"
   ]
  },
  {
   "cell_type": "code",
   "execution_count": null,
   "metadata": {},
   "outputs": [],
   "source": []
  },
  {
   "cell_type": "markdown",
   "metadata": {},
   "source": [
    "# Resolução do item C"
   ]
  },
  {
   "cell_type": "code",
   "execution_count": 4,
   "metadata": {},
   "outputs": [
    {
     "data": {
      "text/plain": [
       "({'v2 (m/s)': 29305.3991772613,\n",
       "  'l2 (m)': 152027197208.660,\n",
       "  'a (m)': 149563598604.330,\n",
       "  'b (m)': 149543307136.742,\n",
       "  'T (anos)': 0.999539261790722,\n",
       "  'excentricidade': 0.0164719131347416},\n",
       " {'v2 (m/s)': 906.680696919153,\n",
       "  'l2 (m)': 5282214660876.42,\n",
       "  'a (m)': 2685022330438.21,\n",
       "  'b (m)': 681129146098.430,\n",
       "  'T (anos)': 76.0296255686482,\n",
       "  'excentricidade': 0.967288912645406})"
      ]
     },
     "execution_count": 4,
     "metadata": {},
     "output_type": "execute_result"
    }
   ],
   "source": [
    "# Valores físicos fornecidos para Terra e Cometa Halley\n",
    "from sympy import N\n",
    "\n",
    "# Constantes\n",
    "G_val = 6.6738e-11     # constante gravitacional (m^3 kg^-1 s^-2)\n",
    "M_val = 1.9891e30      # massa do Sol (kg)\n",
    "\n",
    "# Dados da Terra\n",
    "l1_terra = 1.471e11    # periélio (m)\n",
    "v1_terra = 3.0287e4    # velocidade no periélio (m/s)\n",
    "\n",
    "# Dados do cometa Halley\n",
    "l1_halley = 8.7830e10  # periélio (m)\n",
    "v1_halley = 5.4529e4   # velocidade no periélio (m/s)\n",
    "\n",
    "# Função para calcular os parâmetros orbitais\n",
    "def calcular_orbita(l1_val, v1_val):\n",
    "    v2_val = N((2*G_val*M_val)/(l1_val*v1_val) - v1_val)\n",
    "    l2_val = N((l1_val**2 * v1_val**2) / (2*G_val*M_val - l1_val * v1_val**2))\n",
    "    a_val = N((l1_val + l2_val) / 2)\n",
    "    b_val = N((l1_val * l2_val)**0.5)\n",
    "    T_val = N(2 * pi * a_val * b_val / (l1_val * v1_val))  # em segundos\n",
    "    e_val = N((l2_val - l1_val) / (l2_val + l1_val))\n",
    "    T_anos = T_val / (60 * 60 * 24 * 365.25)  # converter para anos\n",
    "    return {\n",
    "        \"v2 (m/s)\": v2_val,\n",
    "        \"l2 (m)\": l2_val,\n",
    "        \"a (m)\": a_val,\n",
    "        \"b (m)\": b_val,\n",
    "        \"T (anos)\": T_anos,\n",
    "        \"excentricidade\": e_val\n",
    "    }\n",
    "\n",
    "# Cálculos\n",
    "terra_resultado = calcular_orbita(l1_terra, v1_terra)\n",
    "halley_resultado = calcular_orbita(l1_halley, v1_halley)\n",
    "\n",
    "terra_resultado, halley_resultado\n"
   ]
  },
  {
   "cell_type": "code",
   "execution_count": null,
   "metadata": {},
   "outputs": [],
   "source": []
  }
 ],
 "metadata": {
  "kernelspec": {
   "display_name": "base",
   "language": "python",
   "name": "python3"
  },
  "language_info": {
   "codemirror_mode": {
    "name": "ipython",
    "version": 3
   },
   "file_extension": ".py",
   "mimetype": "text/x-python",
   "name": "python",
   "nbconvert_exporter": "python",
   "pygments_lexer": "ipython3",
   "version": "3.12.7"
  }
 },
 "nbformat": 4,
 "nbformat_minor": 2
}
