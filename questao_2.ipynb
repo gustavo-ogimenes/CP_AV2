{
 "cells": [
  {
   "cell_type": "code",
   "execution_count": 1,
   "metadata": {},
   "outputs": [
    {
     "name": "stdout",
     "output_type": "stream",
     "text": [
      "Defaulting to user installation because normal site-packages is not writeable\n",
      "Collecting ephem\n",
      "  Downloading ephem-4.2-cp312-cp312-win_amd64.whl.metadata (6.4 kB)\n",
      "Downloading ephem-4.2-cp312-cp312-win_amd64.whl (1.4 MB)\n",
      "   ---------------------------------------- 0.0/1.4 MB ? eta -:--:--\n",
      "   ---------------------------------------- 1.4/1.4 MB 37.2 MB/s eta 0:00:00\n",
      "Installing collected packages: ephem\n",
      "Successfully installed ephem-4.2\n",
      "Note: you may need to restart the kernel to use updated packages.\n"
     ]
    }
   ],
   "source": [
    "%pip install ephem"
   ]
  },
  {
   "cell_type": "code",
   "execution_count": 1,
   "metadata": {},
   "outputs": [],
   "source": [
    "import ephem"
   ]
  },
  {
   "cell_type": "code",
   "execution_count": 2,
   "metadata": {},
   "outputs": [
    {
     "name": "stdout",
     "output_type": "stream",
     "text": [
      "Data: 2023/6/5 00:00:00\n",
      "Mercúrio: 3:16:06.68 14:59:49.8\n",
      "Vênus: 8:08:44.20 22:44:31.8\n",
      "Marte: 8:46:44.43 19:25:42.1\n",
      "Júpiter: 2:09:28.04 11:54:30.8\n",
      "Saturno: 22:37:29.37 -10:20:13.2\n",
      "\n"
     ]
    }
   ],
   "source": [
    "import ephem\n",
    "\n",
    "# Define as datas iniciais e finais\n",
    "start_date = ephem.Date('2023/06/05')\n",
    "end_date = ephem.Date('2023/06/06')\n",
    "\n",
    "# Cria os objetos para os cinco primeiros planetas\n",
    "mercury = ephem.Mercury()\n",
    "venus = ephem.Venus()\n",
    "mars = ephem.Mars()\n",
    "jupiter = ephem.Jupiter()\n",
    "saturn = ephem.Saturn()\n",
    "\n",
    "# Loop para calcular as posições dos planetas em intervalos de um dia\n",
    "current_date = start_date\n",
    "while current_date < end_date:\n",
    "    # Calcula as posições dos planetas para a data atual\n",
    "    mercury.compute(current_date)\n",
    "    venus.compute(current_date)\n",
    "    mars.compute(current_date)\n",
    "    jupiter.compute(current_date)\n",
    "    saturn.compute(current_date)\n",
    "\n",
    "    # Imprime as posições dos planetas para a data atual\n",
    "    print(\"Data:\", current_date)\n",
    "    print(\"Mercúrio:\", mercury.ra, mercury.dec)\n",
    "    print(\"Vênus:\", venus.ra, venus.dec)\n",
    "    print(\"Marte:\", mars.ra, mars.dec)\n",
    "    print(\"Júpiter:\", jupiter.ra, jupiter.dec)\n",
    "    print(\"Saturno:\", saturn.ra, saturn.dec)\n",
    "    print(\"\")\n",
    "\n",
    "    # Incrementa a data em um dia\n",
    "    current_date += 1\n",
    "\n"
   ]
  },
  {
   "cell_type": "code",
   "execution_count": null,
   "metadata": {},
   "outputs": [],
   "source": []
  }
 ],
 "metadata": {
  "kernelspec": {
   "display_name": "base",
   "language": "python",
   "name": "python3"
  },
  "language_info": {
   "codemirror_mode": {
    "name": "ipython",
    "version": 3
   },
   "file_extension": ".py",
   "mimetype": "text/x-python",
   "name": "python",
   "nbconvert_exporter": "python",
   "pygments_lexer": "ipython3",
   "version": "3.12.7"
  }
 },
 "nbformat": 4,
 "nbformat_minor": 2
}
