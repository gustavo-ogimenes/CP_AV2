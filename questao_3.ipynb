{
 "cells": [
  {
   "cell_type": "markdown",
   "metadata": {},
   "source": [
    "# Resolução questão 3"
   ]
  },
  {
   "cell_type": "code",
   "execution_count": 2,
   "metadata": {},
   "outputs": [
    {
     "name": "stdout",
     "output_type": "stream",
     "text": [
      "O valor de S é: 179.4594722548007\n"
     ]
    }
   ],
   "source": [
    "# Input de N\n",
    "N = int(input(\"Digite o valor de N: \"))\n",
    "\n",
    "# Inicializa a soma\n",
    "S = 0\n",
    "\n",
    "# Loop para calcular a soma\n",
    "for i in range(1, N + 1):\n",
    "    S += i / (N - i + 1)\n",
    "\n",
    "# Mostra o resultado\n",
    "print(f\"O valor de S é: {S}\")\n"
   ]
  }
 ],
 "metadata": {
  "kernelspec": {
   "display_name": "base",
   "language": "python",
   "name": "python3"
  },
  "language_info": {
   "codemirror_mode": {
    "name": "ipython",
    "version": 3
   },
   "file_extension": ".py",
   "mimetype": "text/x-python",
   "name": "python",
   "nbconvert_exporter": "python",
   "pygments_lexer": "ipython3",
   "version": "3.12.7"
  }
 },
 "nbformat": 4,
 "nbformat_minor": 2
}
