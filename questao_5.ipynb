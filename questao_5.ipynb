{
 "cells": [
  {
   "cell_type": "markdown",
   "metadata": {},
   "source": [
    "# Resolução questão 5"
   ]
  },
  {
   "cell_type": "code",
   "execution_count": 2,
   "metadata": {},
   "outputs": [
    {
     "name": "stdout",
     "output_type": "stream",
     "text": [
      "3\n",
      "5\n",
      "12\n",
      "23\n",
      "45\n",
      "89\n"
     ]
    }
   ],
   "source": [
    "# Criando um arquivo fictício de entrada com números desordenados\n",
    "with open('entrada.txt', 'w') as f:\n",
    "    f.write('23\\n5\\n89\\n12\\n45\\n3\\n')\n",
    "\n",
    "# Agora lemos esse arquivo e ordenamos os números sem usar funções prontas\n",
    "with open('entrada.txt', 'r') as f:\n",
    "    numeros = []\n",
    "    for linha in f:\n",
    "        numeros.append(int(linha.strip()))\n",
    "\n",
    "# Ordenação Bubble Sort\n",
    "for i in range(len(numeros)):\n",
    "    for j in range(len(numeros) - 1):\n",
    "        if numeros[j] > numeros[j + 1]:\n",
    "            temp = numeros[j]\n",
    "            numeros[j] = numeros[j + 1]\n",
    "            numeros[j + 1] = temp\n",
    "\n",
    "# Escrevendo os números ordenados num arquivo de saída\n",
    "with open('saida.txt', 'w') as f:\n",
    "    for num in numeros:\n",
    "        f.write(str(num) + '\\n')\n",
    "\n",
    "# Opcional: imprimir o resultado na tela para verificar\n",
    "for num in numeros:\n",
    "    print(num)\n"
   ]
  }
 ],
 "metadata": {
  "kernelspec": {
   "display_name": "base",
   "language": "python",
   "name": "python3"
  },
  "language_info": {
   "codemirror_mode": {
    "name": "ipython",
    "version": 3
   },
   "file_extension": ".py",
   "mimetype": "text/x-python",
   "name": "python",
   "nbconvert_exporter": "python",
   "pygments_lexer": "ipython3",
   "version": "3.12.7"
  }
 },
 "nbformat": 4,
 "nbformat_minor": 2
}
